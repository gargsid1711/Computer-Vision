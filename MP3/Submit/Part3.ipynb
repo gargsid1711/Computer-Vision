{
 "cells": [
  {
   "cell_type": "markdown",
   "metadata": {},
   "source": [
    "# Part 3: Single-View Geometry\n",
    "\n",
    "## Usage\n",
    "This code snippet provides an overall code structure and some interactive plot interfaces for the *Single-View Geometry* section of Assignment 3. In [main function](#Main-function), we outline the required functionalities step by step. Some of the functions which involves interactive plots are already provided, but [the rest](#Your-implementation) are left for you to implement.\n",
    "\n",
    "## Package installation\n",
    "- In this code, we use `tkinter` package. Installation instruction can be found [here](https://anaconda.org/anaconda/tk)."
   ]
  },
  {
   "cell_type": "markdown",
   "metadata": {},
   "source": [
    "# Common imports"
   ]
  },
  {
   "cell_type": "code",
   "execution_count": 12,
   "metadata": {},
   "outputs": [],
   "source": [
    "%matplotlib tk\n",
    "import matplotlib.pyplot as plt\n",
    "import numpy as np\n",
    "from sympy import *\n",
    "from sympy import solve\n",
    "\n",
    "from PIL import Image"
   ]
  },
  {
   "cell_type": "markdown",
   "metadata": {},
   "source": [
    "# Provided functions"
   ]
  },
  {
   "cell_type": "code",
   "execution_count": 13,
   "metadata": {},
   "outputs": [],
   "source": [
    "def get_input_lines(im, min_lines=3):\n",
    "    \"\"\"\n",
    "    Allows user to input line segments; computes centers and directions.\n",
    "    Inputs:\n",
    "        im: np.ndarray of shape (height, width, 3)\n",
    "        min_lines: minimum number of lines required\n",
    "    Returns:\n",
    "        n: number of lines from input\n",
    "        lines: np.ndarray of shape (3, n)\n",
    "            where each column denotes the parameters of the line equation\n",
    "        centers: np.ndarray of shape (3, n)\n",
    "            where each column denotes the homogeneous coordinates of the centers\n",
    "    \"\"\"\n",
    "    n = 0\n",
    "    lines = np.zeros((3, 0))\n",
    "    centers = np.zeros((3, 0))\n",
    "\n",
    "    plt.figure()\n",
    "    plt.imshow(im)\n",
    "    plt.show()\n",
    "    print('Set at least %d lines to compute vanishing point' % min_lines)\n",
    "    while True:\n",
    "        print('Click the two endpoints, use the right key to undo, and use the middle key to stop input')\n",
    "        clicked = plt.ginput(2, timeout=0, show_clicks=True)\n",
    "        if not clicked or len(clicked) < 2:\n",
    "            if n < min_lines:\n",
    "                print('Need at least %d lines, you have %d now' % (min_lines, n))\n",
    "                continue\n",
    "            else:\n",
    "                # Stop getting lines if number of lines is enough\n",
    "                break\n",
    "\n",
    "        # Unpack user inputs and save as homogeneous coordinates\n",
    "        pt1 = np.array([clicked[0][0], clicked[0][1], 1])\n",
    "        pt2 = np.array([clicked[1][0], clicked[1][1], 1])\n",
    "        # Get line equation using cross product\n",
    "        # Line equation: line[0] * x + line[1] * y + line[2] = 0\n",
    "        line = np.cross(pt1, pt2)\n",
    "        lines = np.append(lines, line.reshape((3, 1)), axis=1)\n",
    "        # Get center coordinate of the line segment\n",
    "        center = (pt1 + pt2) / 2\n",
    "        centers = np.append(centers, center.reshape((3, 1)), axis=1)\n",
    "\n",
    "        # Plot line segment\n",
    "        plt.plot([pt1[0], pt2[0]], [pt1[1], pt2[1]], color='b')\n",
    "\n",
    "        n += 1\n",
    "\n",
    "    return n, lines, centers"
   ]
  },
  {
   "cell_type": "code",
   "execution_count": 14,
   "metadata": {},
   "outputs": [],
   "source": [
    "def plot_lines_and_vp(im, lines, vp):\n",
    "    \"\"\"\n",
    "    Plots user-input lines and the calculated vanishing point.\n",
    "    Inputs:\n",
    "        im: np.ndarray of shape (height, width, 3)\n",
    "        lines: np.ndarray of shape (3, n)\n",
    "            where each column denotes the parameters of the line equation\n",
    "        vp: np.ndarray of shape (3, )\n",
    "    \"\"\"\n",
    "    bx1 = min(1, vp[0] / vp[2]) - 10\n",
    "    bx2 = max(im.shape[1], vp[0] / vp[2]) + 10\n",
    "    by1 = min(1, vp[1] / vp[2]) - 10\n",
    "    by2 = max(im.shape[0], vp[1] / vp[2]) + 10\n",
    "\n",
    "    plt.figure()\n",
    "    plt.imshow(im)\n",
    "    for i in range(lines.shape[1]):\n",
    "        if lines[0, i] < lines[1, i]:\n",
    "            pt1 = np.cross(np.array([1, 0, -bx1]), lines[:, i])\n",
    "            pt2 = np.cross(np.array([1, 0, -bx2]), lines[:, i])\n",
    "        else:\n",
    "            pt1 = np.cross(np.array([0, 1, -by1]), lines[:, i])\n",
    "            pt2 = np.cross(np.array([0, 1, -by2]), lines[:, i])\n",
    "        pt1 = pt1 / pt1[2]\n",
    "        pt2 = pt2 / pt2[2]\n",
    "        plt.plot([pt1[0], pt2[0]], [pt1[1], pt2[1]], 'g')\n",
    "\n",
    "    plt.plot(vp[0] / vp[2], vp[1] / vp[2], 'ro')\n",
    "    plt.show()"
   ]
  },
  {
   "cell_type": "code",
   "execution_count": 15,
   "metadata": {},
   "outputs": [],
   "source": [
    "def get_top_and_bottom_coordinates(im, obj):\n",
    "    \"\"\"\n",
    "    For a specific object, prompts user to record the top coordinate and the bottom coordinate in the image.\n",
    "    Inputs:\n",
    "        im: np.ndarray of shape (height, width, 3)\n",
    "        obj: string, object name\n",
    "    Returns:\n",
    "        coord: np.ndarray of shape (3, 2)\n",
    "            where coord[:, 0] is the homogeneous coordinate of the top of the object and coord[:, 1] is the homogeneous\n",
    "            coordinate of the bottom\n",
    "    \"\"\"\n",
    "    plt.figure()\n",
    "    plt.imshow(im)\n",
    "\n",
    "    print('Click on the top coordinate of %s' % obj)\n",
    "    clicked = plt.ginput(1, timeout=0, show_clicks=True)\n",
    "    x1, y1 = clicked[0]\n",
    "    # Uncomment this line to enable a vertical line to help align the two coordinates\n",
    "    # plt.plot([x1, x1], [0, im.shape[0]], 'b')\n",
    "    print('Click on the bottom coordinate of %s' % obj)\n",
    "    clicked = plt.ginput(1, timeout=0, show_clicks=True)\n",
    "    x2, y2 = clicked[0]\n",
    "\n",
    "    plt.plot([x1, x2], [y1, y2], 'b')\n",
    "\n",
    "    return np.array([[x1, x2], [y1, y2], [1, 1]])"
   ]
  },
  {
   "cell_type": "markdown",
   "metadata": {},
   "source": [
    "# Your implementation"
   ]
  },
  {
   "cell_type": "code",
   "execution_count": 16,
   "metadata": {},
   "outputs": [],
   "source": [
    "def get_vanishing_point(lines):\n",
    "    \"\"\"\n",
    "    Solves for the vanishing point using the user-input lines.\n",
    "    \"\"\"\n",
    "    # <YOUR IMPLEMENTATION>\n",
    "    \n",
    "    second_moment = np.dot(lines, lines.T)\n",
    "    w, v = np.linalg.eig(second_moment)\n",
    "    min_idx = np.argmin(w)\n",
    "    vp = v[:, min_idx]\n",
    "    vp = vp / vp[-1]\n",
    "    return vp"
   ]
  },
  {
   "cell_type": "code",
   "execution_count": 17,
   "metadata": {},
   "outputs": [],
   "source": [
    "def get_horizon_line(vpts):\n",
    "    \"\"\"\n",
    "    Calculates the ground horizon line.\n",
    "    \"\"\"\n",
    "    # <YOUR IMPLEMENTATION>\n",
    "    line1 = vpts[:, 0]\n",
    "    line2 = vpts[:, 1]\n",
    "    \n",
    "    # Line equation: line[0] * x + line[1] * y + line[2] = 0\n",
    "    horizon_line = np.cross(line1, line2)\n",
    "    #Normalizing to magnitude 1\n",
    "    horizon_line /= np.sqrt(horizon_line[0]**2 + horizon_line[1]**2)\n",
    "    \n",
    "    return horizon_line"
   ]
  },
  {
   "cell_type": "code",
   "execution_count": 28,
   "metadata": {},
   "outputs": [],
   "source": [
    "def plot_horizon_line(im, horizon_line):\n",
    "    \"\"\"\n",
    "    Plots the horizon line.\n",
    "    \"\"\"\n",
    "    # <YOUR IMPLEMENTATION>\n",
    "    x_range = im.shape[1]\n",
    "    x = np.arange(x_range)\n",
    "    y = (- horizon_line[2] - horizon_line[0] * x) / horizon_line[1]\n",
    "    \n",
    "    plt.figure()\n",
    "    plt.imshow(im)\n",
    "    plt.plot(x, y)    \n",
    "    plt.show()"
   ]
  },
  {
   "cell_type": "code",
   "execution_count": 19,
   "metadata": {},
   "outputs": [],
   "source": [
    "def get_camera_parameters(vpts):\n",
    "    \"\"\"\n",
    "    Computes the camera parameters. Hint: The SymPy package is suitable for this.\n",
    "    \"\"\"\n",
    "    # <YOUR IMPLEMENTATION>\n",
    "    vpts1 = vpts[:, 0][:, np.newaxis]  # converting to column vectors\n",
    "    vpts2 = vpts[:, 1][:, np.newaxis]\n",
    "    vpts3 = vpts[:, 2][:, np.newaxis]\n",
    "    \n",
    "    f, px, py= symbols('f, px, py')\n",
    "    K_inv_T = Matrix([[1/f, 0, 0], [0, 1/f, 0], [-px/f, -py/f, 1]])\n",
    "    K_inv = Matrix([[1/f, 0, -px/f], [0, 1/f, -py/f], [0, 0, 1]])\n",
    "    \n",
    "    eq1 = vpts1.T * K_inv_T * K_inv * vpts2\n",
    "    eq2 = vpts1.T * K_inv_T * K_inv * vpts3\n",
    "    eq3 = vpts2.T * K_inv_T * K_inv * vpts3\n",
    "    \n",
    "    f, px, py = solve([eq1[0], eq2[0], eq3[0]], (f, px, py))[0]\n",
    "\n",
    "    return abs(f), px, py"
   ]
  },
  {
   "cell_type": "code",
   "execution_count": 20,
   "metadata": {},
   "outputs": [],
   "source": [
    "def get_rotation_matrix(vpts, f, u, v):\n",
    "    \"\"\"\n",
    "    Computes the rotation matrix using the camera parameters.\n",
    "    \"\"\"\n",
    "    # <YOUR IMPLEMENTATION>\n",
    "    Z = vpts[:, 0][:, np.newaxis]  # convertig to column vectors\n",
    "    X = vpts[:, 1][:, np.newaxis]\n",
    "    Y = vpts[:, 2][:, np.newaxis]\n",
    "\n",
    "    K = np.array([[f, 0, u], [0, f, v], [0, 0, 1]]).astype(np.float)\n",
    "    K_inv = np.linalg.inv(K)\n",
    "\n",
    "    r1 = K_inv.dot(X)\n",
    "    r2 = K_inv.dot(Y)\n",
    "    r3 = K_inv.dot(Z)\n",
    "\n",
    "    #normalization to magnitude 1\n",
    "    r1 = r1 / np.linalg.norm(r1)\n",
    "    r2 = r2 / np.linalg.norm(r2)\n",
    "    r3 = r3 / np.linalg.norm(r3)\n",
    "\n",
    "    R = np.concatenate((r1, r2, r3), axis=1)\n",
    "       \n",
    "    return R"
   ]
  },
  {
   "cell_type": "code",
   "execution_count": 26,
   "metadata": {},
   "outputs": [],
   "source": [
    "def estimate_height(im, person_coord, obj_coord, horizon_line):\n",
    "    \"\"\"\n",
    "    Estimates height for a specific object using the recorded coordinates. You might need to plot additional images here for\n",
    "    your report.\n",
    "    \"\"\"\n",
    "    # <YOUR IMPLEMENTATION>\n",
    "    H = 1.6764  # 5ft 6in in meters\n",
    "#     H = 1.8288  # 6 ft in meters\n",
    "    \n",
    "    vpz = vpts[:, 2]  # Vertical vp.\n",
    "    # Person as reference.\n",
    "    t_person = person_coord[:, 0]\n",
    "    b_person = person_coord[:, 1]\n",
    "\n",
    "    # Obj coords.\n",
    "    r = obj_coord[:, 0]\n",
    "    b = obj_coord[:, 1]\n",
    "\n",
    "    line_b_person_b = np.cross(b_person, b)\n",
    "    v = np.cross(line_b_person_b, horizon_line)\n",
    "    v = v / v[-1]\n",
    "    \n",
    "    line_v_t_person = np.cross(v, t_person)\n",
    "    line_r_b = np.cross(r, b)\n",
    "    t = np.cross(line_v_t_person, line_r_b)\n",
    "    t = t / t[-1]\n",
    "    \n",
    "    height = H*(np.linalg.norm(r-b) * np.linalg.norm(vpz-t) /\n",
    "              np.linalg.norm(t-b) / np.linalg.norm(vpz-r))\n",
    "    \n",
    "    return height"
   ]
  },
  {
   "cell_type": "markdown",
   "metadata": {},
   "source": [
    "# Main function"
   ]
  },
  {
   "cell_type": "code",
   "execution_count": null,
   "metadata": {},
   "outputs": [],
   "source": [
    "im = np.asarray(Image.open('CSL.jpg'))\n",
    "\n",
    "# Part 1\n",
    "# Get vanishing points for each of the directions\n",
    "num_vpts = 3\n",
    "vpts = np.zeros((3, num_vpts))\n",
    "for i in range(num_vpts):\n",
    "    print('Getting vanishing point %d' % i)\n",
    "    # Get at least three lines from user input\n",
    "    n, lines, centers = get_input_lines(im)\n",
    "    # <YOUR IMPLEMENTATION> Solve for vanishing point\n",
    "    vpts[:, i] = get_vanishing_point(lines)\n",
    "    # Plot the lines and the vanishing point\n",
    "    plot_lines_and_vp(im, lines, vpts[:, i])\n",
    "print(vpts)"
   ]
  },
  {
   "cell_type": "code",
   "execution_count": 22,
   "metadata": {},
   "outputs": [
    {
     "name": "stdout",
     "output_type": "stream",
     "text": [
      "[[-2.96469945e+02  1.28080923e+03  1.55304240e+02]\n",
      " [ 2.20520969e+02  2.19212527e+02  2.15434587e+04]\n",
      " [ 1.00000000e+00  1.00000000e+00  1.00000000e+00]]\n"
     ]
    }
   ],
   "source": [
    "im = np.asarray(Image.open('CSL.jpg'))\n",
    "num_vpts = 3\n",
    "vpts = np.zeros((3, num_vpts))\n",
    "lines1 = np.array([[4.22587523e+01, 9.86037554e+00, -1.26776257e+01], [5.01470528e+02, 4.97244652e+02, 4.90201527e+02], [-9.81789385e+04, -1.06443143e+05, -1.12022941e+05]])\n",
    "vpts[:, 0] = get_vanishing_point(lines1)\n",
    "\n",
    "\n",
    "lines2 = np.array([[-2.57001550e+01, -1.05824168e+01, 1.81412859e+01],[1.28500775e+02, 1.28500775e+02, 1.28500775e+02], [5.29360684e+03, -1.54770948e+04, -5.10867708e+04]])\n",
    "vpts[:, 1] = get_vanishing_point(lines2)\n",
    "\n",
    "lines3 = np.array([[-1.80702110e+02, -1.15371347e+02, -7.50608766e+01], [-6.95008117e+00, -2.78003247e+00, 0.00000000e+00], [ 1.50920865e+05, 1.11295916e+05, 2.48691055e+04]])\n",
    "vpts[:, 2] = get_vanishing_point(lines3)\n",
    "\n",
    "print(vpts)\n",
    "\n",
    "# <YOUR IMPLEMENTATION> Get the ground horizon line\n",
    "horizon_line = get_horizon_line(vpts)\n",
    "# <YOUR IMPLEMENTATION> Plot the ground horizon line\n",
    "# plot_horizon_line(im, horizon_line)"
   ]
  },
  {
   "cell_type": "code",
   "execution_count": 23,
   "metadata": {},
   "outputs": [
    {
     "name": "stdout",
     "output_type": "stream",
     "text": [
      "704.061358073542 137.634665651078 243.433240018998\n"
     ]
    }
   ],
   "source": [
    "num_vpts = 3\n",
    "vpts = np.zeros((3, num_vpts))\n",
    "lines1 = np.array([[4.22587523e+01, 9.86037554e+00, -1.26776257e+01], [5.01470528e+02, 4.97244652e+02, 4.90201527e+02], [-9.81789385e+04, -1.06443143e+05, -1.12022941e+05]])\n",
    "vpts[:, 0] = get_vanishing_point(lines1)\n",
    "\n",
    "\n",
    "lines2 = np.array([[-2.57001550e+01, -1.05824168e+01, 1.81412859e+01],[1.28500775e+02, 1.28500775e+02, 1.28500775e+02], [5.29360684e+03, -1.54770948e+04, -5.10867708e+04]])\n",
    "vpts[:, 1] = get_vanishing_point(lines2)\n",
    "\n",
    "lines3 = np.array([[-1.80702110e+02, -1.15371347e+02, -7.50608766e+01], [-6.95008117e+00, -2.78003247e+00, 0.00000000e+00], [ 1.50920865e+05, 1.11295916e+05, 2.48691055e+04]])\n",
    "vpts[:, 2] = get_vanishing_point(lines3)\n",
    "\n",
    "# Part 2\n",
    "# <YOUR IMPLEMENTATION> Solve for the camera parameters (f, u, v)\n",
    "f, u, v = get_camera_parameters(vpts)\n",
    "print(f, u, v)"
   ]
  },
  {
   "cell_type": "code",
   "execution_count": 24,
   "metadata": {},
   "outputs": [
    {
     "name": "stdout",
     "output_type": "stream",
     "text": [
      "[[ 8.51330465e-01  8.29103367e-04 -5.24629156e-01]\n",
      " [-1.80373423e-02  9.99453804e-01 -2.76902042e-02]\n",
      " [ 5.24319648e-01  3.30364301e-02  8.50880427e-01]]\n"
     ]
    }
   ],
   "source": [
    "# Part 3\n",
    "# <YOUR IMPLEMENTATION> Solve for the rotation matrix\n",
    "R = get_rotation_matrix(vpts, f, u, v)\n",
    "print(R)"
   ]
  },
  {
   "cell_type": "code",
   "execution_count": 27,
   "metadata": {},
   "outputs": [
    {
     "name": "stdout",
     "output_type": "stream",
     "text": [
      "Click on the top coordinate of person\n",
      "Click on the bottom coordinate of person\n",
      "Click on the top coordinate of CSL building\n",
      "Click on the bottom coordinate of CSL building\n",
      "Click on the top coordinate of spike statue\n",
      "Click on the bottom coordinate of spike statue\n",
      "Click on the top coordinate of lamp posts\n",
      "Click on the bottom coordinate of lamp posts\n",
      "Estimating height of CSL building\n",
      "CSL building 23.072659298501254\n",
      "Estimating height of spike statue\n",
      "spike statue 10.738230630692003\n",
      "Estimating height of lamp posts\n",
      "lamp posts 5.568722676958392\n"
     ]
    }
   ],
   "source": [
    "# Part 4\n",
    "im = np.asarray(Image.open('CSL.jpg'))\n",
    "# Record image coordinates for each object and store in map\n",
    "objects = ('person', 'CSL building', 'spike statue', 'lamp posts')\n",
    "coords = dict()\n",
    "for obj in objects:\n",
    "    coords[obj] = get_top_and_bottom_coordinates(im, obj)\n",
    "\n",
    "# <YOUR IMPLEMENTATION> Estimate heights\n",
    "for obj in objects[1:]:\n",
    "    print('Estimating height of %s' % obj)\n",
    "    height = estimate_height(im, coords['person'], coords[obj], horizon_line)\n",
    "    print(obj, height)"
   ]
  },
  {
   "cell_type": "code",
   "execution_count": null,
   "metadata": {},
   "outputs": [],
   "source": []
  }
 ],
 "metadata": {
  "kernelspec": {
   "display_name": "Python 3",
   "language": "python",
   "name": "python3"
  },
  "language_info": {
   "codemirror_mode": {
    "name": "ipython",
    "version": 3
   },
   "file_extension": ".py",
   "mimetype": "text/x-python",
   "name": "python",
   "nbconvert_exporter": "python",
   "pygments_lexer": "ipython3",
   "version": "3.7.4"
  }
 },
 "nbformat": 4,
 "nbformat_minor": 2
}
