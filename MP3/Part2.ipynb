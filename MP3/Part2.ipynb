{
 "cells": [
  {
   "cell_type": "markdown",
   "metadata": {},
   "source": [
    "# Part 2: Fundamental Matrix Estimation, Camera Calibration, Triangulation"
   ]
  },
  {
   "cell_type": "markdown",
   "metadata": {},
   "source": [
    "## Fundamental Matrix Estimation"
   ]
  },
  {
   "cell_type": "code",
   "execution_count": null,
   "metadata": {},
   "outputs": [],
   "source": [
    "from PIL import Image\n",
    "import numpy as np\n",
    "import matplotlib.pyplot as plt\n",
    "\n",
    "##\n",
    "## load images and match files for the first example\n",
    "##\n",
    "\n",
    "I1 = Image.open('MP3_part2_data/library1.jpg');\n",
    "I2 = Image.open('MP3_part2_data/library2.jpg');\n",
    "matches = np.loadtxt('MP3_part2_data/library_matches.txt'); \n",
    "\n",
    "# this is a N x 4 file where the first two numbers of each row\n",
    "# are coordinates of corners in the first image and the last two\n",
    "# are coordinates of corresponding corners in the second image: \n",
    "# matches(i,1:2) is a point in the first image\n",
    "# matches(i,3:4) is a corresponding point in the second image\n",
    "\n",
    "N = len(matches)\n",
    "\n",
    "##\n",
    "## display two images side-by-side with matches\n",
    "## this code is to help you visualize the matches, you don't need\n",
    "## to use it to produce the results for the assignment\n",
    "##\n",
    "\n",
    "I3 = np.zeros((I1.size[1],I1.size[0]*2,3) )\n",
    "I3[:,:I1.size[0],:] = I1;\n",
    "I3[:,I1.size[0]:,:] = I2;\n",
    "fig, ax = plt.subplots()\n",
    "ax.set_aspect('equal')\n",
    "ax.imshow(np.array(I3).astype(float))\n",
    "ax.plot(matches[:,0],matches[:,1],  '+r')\n",
    "ax.plot( matches[:,2]+I1.size[0],matches[:,3], '+r')\n",
    "ax.plot([matches[:,0], matches[:,2]+I1.size[0]],[matches[:,1], matches[:,3]], 'r')\n",
    "plt.show()\n",
    "\n",
    "##\n",
    "## display second image with epipolar lines reprojected \n",
    "## from the first image\n",
    "##\n",
    "\n",
    "# first, fit fundamental matrix to the matches\n",
    "F = fit_fundamental(matches); # this is a function that you should write\n",
    "M = np.c_[matches[:,0:2], np.ones((N,1))].transpose()\n",
    "L1 = np.matmul(F, M).transpose() # transform points from \n",
    "# the first image to get epipolar lines in the second image\n",
    "\n",
    "# find points on epipolar lines L closest to matches(:,3:4)\n",
    "l = np.sqrt(L1[:,0]**2 + L1[:,1]**2)\n",
    "L = np.divide(L1,np.kron(np.ones((3,1)),l).transpose())# rescale the line\n",
    "pt_line_dist = np.multiply(L, np.c_[matches[:,2:4], np.ones((N,1))]).sum(axis = 1)\n",
    "closest_pt = matches[:,2:4] - np.multiply(L[:,0:2],np.kron(np.ones((2,1)), pt_line_dist).transpose())\n",
    "\n",
    "# find endpoints of segment on epipolar line (for display purposes)\n",
    "pt1 = closest_pt - np.c_[L[:,1], -L[:,0]]*10# offset from the closest point is 10 pixels\n",
    "pt2 = closest_pt + np.c_[L[:,1], -L[:,0]]*10\n",
    "\n",
    "# display points and segments of corresponding epipolar lines\n",
    "fig, ax = plt.subplots()\n",
    "ax.set_aspect('equal')\n",
    "ax.imshow(np.array(I2).astype(float))\n",
    "ax.plot(matches[:,2],matches[:,3],  '+r')\n",
    "ax.plot([matches[:,2], closest_pt[:,0]],[matches[:,3], closest_pt[:,1]], 'r')\n",
    "ax.plot([pt1[:,0], pt2[:,0]],[pt1[:,1], pt2[:,1]], 'g')\n",
    "plt.show()"
   ]
  },
  {
   "cell_type": "markdown",
   "metadata": {},
   "source": [
    "## Camera Calibration"
   ]
  },
  {
   "cell_type": "code",
   "execution_count": null,
   "metadata": {},
   "outputs": [],
   "source": [
    "def evaluate_points(M, points_2d, points_3d):\n",
    "    \"\"\"\n",
    "    Visualize the actual 2D points and the projected 2D points calculated from\n",
    "    the projection matrix\n",
    "    You do not need to modify anything in this function, although you can if you\n",
    "    want to\n",
    "    :param M: projection matrix 3 x 4\n",
    "    :param points_2d: 2D points N x 2\n",
    "    :param points_3d: 3D points N x 3\n",
    "    :return:\n",
    "    \"\"\"\n",
    "    N = len(points_3d)\n",
    "    points_3d = np.hstack((points_3d, np.ones((N, 1))))\n",
    "    points_3d_proj = np.dot(M, points_3d.T).T\n",
    "    u = points_3d_proj[:, 0] / points_3d_proj[:, 2]\n",
    "    v = points_3d_proj[:, 1] / points_3d_proj[:, 2]\n",
    "    residual = np.sum(np.hypot(u-points_2d[:, 0], v-points_2d[:, 1]))\n",
    "    points_3d_proj = np.hstack((u[:, np.newaxis], v[:, np.newaxis]))\n",
    "    return points_3d_proj, residual"
   ]
  },
  {
   "cell_type": "markdown",
   "metadata": {},
   "source": [
    "## Camera Centers"
   ]
  },
  {
   "cell_type": "code",
   "execution_count": null,
   "metadata": {},
   "outputs": [],
   "source": []
  },
  {
   "cell_type": "markdown",
   "metadata": {},
   "source": [
    "## Triangulation"
   ]
  },
  {
   "cell_type": "code",
   "execution_count": null,
   "metadata": {},
   "outputs": [],
   "source": []
  }
 ],
 "metadata": {
  "kernelspec": {
   "display_name": "Python 3",
   "language": "python",
   "name": "python3"
  },
  "language_info": {
   "codemirror_mode": {
    "name": "ipython",
    "version": 3
   },
   "file_extension": ".py",
   "mimetype": "text/x-python",
   "name": "python",
   "nbconvert_exporter": "python",
   "pygments_lexer": "ipython3",
   "version": "3.7.4"
  }
 },
 "nbformat": 4,
 "nbformat_minor": 2
}
